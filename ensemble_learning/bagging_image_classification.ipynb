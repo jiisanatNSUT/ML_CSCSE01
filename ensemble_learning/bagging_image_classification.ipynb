{
 "cells": [
  {
   "cell_type": "markdown",
   "metadata": {},
   "source": [
    "### Problem Statement: \n",
    "Ensemble Learning\n",
    "\n",
    "Implement bagging ensemble technique in image classification\n",
    "\n",
    "\n",
    "In this example, we are going to train an ensemble of Convolution Networks for Image Classification.\n",
    "\n",
    "There are different CNN models for image classification (VGG, ResNet, DenseNet, MobileNet, etc), they provide different accuracies. But ensemble of these CNN can improve accuracy. Here we use PyTorch to train 3 image classification models (DenseNet161, ResNet152, and VGG19) on TinyImageNet dataset. "
   ]
  },
  {
   "cell_type": "code",
   "execution_count": null,
   "metadata": {
    "vscode": {
     "languageId": "powershell"
    }
   },
   "outputs": [],
   "source": [
    "!pip install numpy\n",
    "!pip install pandas\n",
    "!pip install pillow\n",
    "!pip install matplotlib\n",
    "!pip install tqdm\n",
    "!pip install scikit-learn\n",
    "!pip install torch\n",
    "!pip install torchvision"
   ]
  },
  {
   "cell_type": "code",
   "execution_count": 1,
   "metadata": {},
   "outputs": [],
   "source": [
    "# IMPORTS\n",
    "\n",
    "import torch\n",
    "\n"
   ]
  },
  {
   "cell_type": "code",
   "execution_count": 2,
   "metadata": {},
   "outputs": [
    {
     "name": "stdout",
     "output_type": "stream",
     "text": [
      "CUDA is available. Working on GPU.\n"
     ]
    }
   ],
   "source": [
    "\"\"\"\n",
    "Setting up CUDA and PyTorch:\n",
    "1. Check weather your system can support CUDA or not. Visit https://developer.nvidia.com/cuda-gpus\n",
    "2. If Yes, visit https://developer.nvidia.com/cuda-downloads and install NVIDIA CUDA Toolkit.\n",
    "3. Visit https://pytorch.org/\n",
    "Goto Install Pytorch Section, select your specifications and run the command in your terminal. Make sure to activate the virtual environment.\n",
    "\"\"\"\n",
    "\n",
    "# Checking GPU availability\n",
    "if torch.cuda.is_available():\n",
    "    print(\"CUDA is available. Working on GPU.\")\n",
    "    DEVICE = torch.device('cuda')\n",
    "else:\n",
    "    \n",
    "    print(\"CUDA is not available. Working on CPU.\")\n",
    "    DEVICE = torch.device('cpu')"
   ]
  },
  {
   "cell_type": "code",
   "execution_count": null,
   "metadata": {},
   "outputs": [],
   "source": []
  },
  {
   "cell_type": "code",
   "execution_count": null,
   "metadata": {},
   "outputs": [],
   "source": []
  }
 ],
 "metadata": {
  "kernelspec": {
   "display_name": "venv",
   "language": "python",
   "name": "python3"
  },
  "language_info": {
   "codemirror_mode": {
    "name": "ipython",
    "version": 3
   },
   "file_extension": ".py",
   "mimetype": "text/x-python",
   "name": "python",
   "nbconvert_exporter": "python",
   "pygments_lexer": "ipython3",
   "version": "3.11.3"
  },
  "orig_nbformat": 4
 },
 "nbformat": 4,
 "nbformat_minor": 2
}
